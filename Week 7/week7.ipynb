{
 "cells": [
  {
   "cell_type": "markdown",
   "metadata": {},
   "source": [
    "#### NX-414: Brain-like computation and intelligence\n",
    "Notebook prepared by Alessandro Marin Vargas"
   ]
  },
  {
   "attachments": {},
   "cell_type": "markdown",
   "metadata": {},
   "source": [
    "# Week 7 - Mini project (Predicting neural activity)\n",
    "\n",
    "The objectives of the mini project are:\n",
    "- Learn how to predict neural activity using linear regression from images and from neural network layers.\n",
    "- Quantify the goodness of the model\n",
    "- Compare the results across the network layers and between trained/random neural network\n",
    "- Predict the neural activity using a neural network in a data-driven approach\n",
    "\n",
    "Specifically, here you will use the data from the following [paper](https://www.jneurosci.org/content/jneuro/35/39/13402.full.pdf). The behavioral experiment consisted in showing to non-human primates some images while recording the neural activity with multielectrode arrays from the inferior temporal (IT) cortex. In the data we provided you, the neural activity and the images are already pre-processed and you will have available the images and the corresponding average firing rate (between 70 and 170 ms) per each neuron.\n",
    "\n",
    "### Deadline for Mini-Project Submission: May 7, 2025\n",
    "\n",
    "You are required to submit your mini-projects by midnight on 07/05/25. Please upload a .zip file to Moodle containing your code, along with the following specific components:\n",
    "\n",
    "- One-Page Report (Report.pdf): This should detail your investigative process and include:\n",
    "    - A comparison table of models. This should cover linear regression from stimuli, both trained and random task-driven models, data-driven models, and your best-performing model.\n",
    "    - A figure illustrating the variation in neural prediction across different layers of a task-driven model.\n",
    "    - Your exploration to develop the most effective model at predicting IT neural activity\n",
    "- Example Script/Notebook: Please provide a script (test.py) or a notebook (test.ipynb) demonstrating how your best model performs on the validation set. This should serve as an example of the model's usage."
   ]
  },
  {
   "cell_type": "code",
   "execution_count": 396,
   "metadata": {},
   "outputs": [],
   "source": [
    "import sys\n",
    "sys.path.append('./../')\n",
    "# !{sys.executable} -m pip install gdown h5py"
   ]
  },
  {
   "cell_type": "code",
   "execution_count": 397,
   "metadata": {},
   "outputs": [],
   "source": [
    "from week_6.utils import load_it_data, visualize_img\n",
    "import matplotlib.pyplot as plt\n",
    "import numpy as np\n",
    "import gdown\n",
    "# url = \"https://drive.google.com/file/d/1s6caFNRpyR9m7ZM6XEv_e8mcXT3_PnHS/view?usp=share_link\"\n",
    "# output = \"IT_data.h5\"\n",
    "# gdown.download(url, output, quiet=False, fuzzy=True)"
   ]
  },
  {
   "cell_type": "markdown",
   "metadata": {},
   "source": [
    "### Load the data"
   ]
  },
  {
   "cell_type": "code",
   "execution_count": 398,
   "metadata": {},
   "outputs": [],
   "source": [
    "path_to_data = '' ## Insert the folder where the data is, if you download in the same folder as this notebook then leave it blank\n",
    "\n",
    "stimulus_train, stimulus_val, stimulus_test, objects_train, objects_val, objects_test, spikes_train, spikes_val = load_it_data(path_to_data)\n"
   ]
  },
  {
   "attachments": {},
   "cell_type": "markdown",
   "metadata": {},
   "source": [
    "## Predict the neural activity using a data-driven approach\n",
    "\n",
    "In the first part of the project, you have predicted the neural activity either from pixels or from the activations of a pre-trained neural network model. Here, your objective is to build and train a shallow convolutional neural network to predict the IT neural activity.\n",
    "\n",
    "Follow these steps:\n",
    "- Create the dataloader\n",
    "- Define the model (Shallow CNN with 2/3 layers)\n",
    "- Define the loss function (MSE) and the optimizer\n",
    "- Build the training script and train your model\n",
    "- Evaluate the predictions of your model. \n",
    "- Compare the neural predictions with the ones achieved by the task-trained neural network model. Which one can better predict the neural activity?"
   ]
  },
  {
   "cell_type": "code",
   "execution_count": 399,
   "metadata": {},
   "outputs": [],
   "source": [
    "import pandas as pd\n",
    "import torch\n",
    "from torch.utils.data import Dataset, DataLoader\n",
    "from torchvision import transforms\n",
    "from PIL import Image\n",
    "import os\n",
    "import numpy as np\n",
    "import matplotlib.pyplot as plt\n",
    "import torch\n",
    "import torch.nn as nn\n",
    "import torch.nn.functional as F\n",
    "import torch.optim as optim\n",
    "from sklearn.metrics import explained_variance_score\n",
    "from scipy.stats import pearsonr\n",
    "import seaborn as sns\n"
   ]
  },
  {
   "cell_type": "code",
   "execution_count": 400,
   "metadata": {},
   "outputs": [
    {
     "data": {
      "text/plain": [
       "(2592, 3, 224, 224)"
      ]
     },
     "metadata": {},
     "output_type": "display_data"
    },
    {
     "data": {
      "text/plain": [
       "(2592, 168)"
      ]
     },
     "metadata": {},
     "output_type": "display_data"
    },
    {
     "data": {
      "text/plain": [
       "2.64"
      ]
     },
     "metadata": {},
     "output_type": "display_data"
    },
    {
     "data": {
      "text/plain": [
       "-2.117904"
      ]
     },
     "metadata": {},
     "output_type": "display_data"
    }
   ],
   "source": [
    "display(stimulus_train.shape, spikes_train.shape)\n",
    "display(stimulus_train.max(), stimulus_train.min())\n"
   ]
  },
  {
   "cell_type": "code",
   "execution_count": 401,
   "metadata": {},
   "outputs": [],
   "source": [
    "class NA_Dataset(Dataset):\n",
    "    def __init__(self, images_array, spikes_array, transform = None):\n",
    "        self.images = images_array\n",
    "        self.target = spikes_array\n",
    "        self.transform = transform\n",
    "    \n",
    "    def __len__(self):\n",
    "        return len(self.images)\n",
    "    \n",
    "    def __getitem__(self, idx):\n",
    "        image = self.images[idx]\n",
    "        target = self.target[idx]\n",
    "        if self.transform:\n",
    "            image = self.transform(image)\n",
    "        else : \n",
    "            image = torch.tensor(image, dtype=torch.float32)\n",
    "        target = torch.tensor(target, dtype=torch.float32)        \n",
    "        return image, target\n",
    "    \n"
   ]
  },
  {
   "cell_type": "code",
   "execution_count": 402,
   "metadata": {},
   "outputs": [],
   "source": [
    "\n",
    "class VanillaCNN(nn.Module):\n",
    "    def __init__(self, num_channels, num_outputs, image_size=224):\n",
    "        super(VanillaCNN, self).__init__()\n",
    "        # First convolution block\n",
    "        self.conv1 = nn.Conv2d(in_channels=num_channels, out_channels=16, kernel_size=3, padding=1)\n",
    "        self.bn1 = nn.BatchNorm2d(16)\n",
    "        \n",
    "        # Second convolution block\n",
    "        self.conv2 = nn.Conv2d(in_channels=16, out_channels=32 , kernel_size=3, padding=1)\n",
    "        self.bn2 = nn.BatchNorm2d(32)\n",
    "        \n",
    "        # Third convolution block\n",
    "        self.conv3 = nn.Conv2d(in_channels=32, out_channels=64, kernel_size=3, padding=1)\n",
    "        self.bn3 = nn.BatchNorm2d(64)\n",
    "        \n",
    "        self.conv4 = nn.Conv2d(in_channels=64, out_channels=128, kernel_size=3, padding=1)\n",
    "        self.bn4 = nn.BatchNorm2d(128)\n",
    "        \n",
    "        self.pool = nn.MaxPool2d(2, 2)\n",
    "        reduced_size = image_size // 8 \n",
    "        self.fc1 = nn.Linear(128 * reduced_size * reduced_size, 1024)\n",
    "        self.fc2 = nn.Linear(1024, 512)\n",
    "        self.fc3 = nn.Linear(512, num_outputs)\n",
    "    \n",
    "    def forward(self, x):\n",
    "        # Convolutional block 1: conv -> bn -> ReLU -> pool\n",
    "        x = self.pool(F.relu(self.bn1(self.conv1(x))))\n",
    "        \n",
    "        # Convolutional block 2: conv -> bn -> ReLU -> pool\n",
    "        x = self.pool(F.relu(self.bn2(self.conv2(x))))\n",
    "        \n",
    "        x = self.pool(F.relu(self.bn3(self.conv3(x))))\n",
    "        \n",
    "        # Convolutional block 3: conv -> bn -> ReLU\n",
    "        x = F.relu(self.bn4(self.conv4(x)))\n",
    "        \n",
    "        # Flatten the tensor for the fully connected layers\n",
    "        x = x.view(x.size(0), -1)\n",
    "        \n",
    "        # Fully connected layers\n",
    "        x = F.relu(self.fc1(x))\n",
    "        x = F.relu(self.fc2(x))\n",
    "        x = self.fc3(x)\n",
    "        return x\n",
    "\n",
    "\n"
   ]
  },
  {
   "cell_type": "code",
   "execution_count": 403,
   "metadata": {},
   "outputs": [],
   "source": [
    "def inverse_normalisation(images):\n",
    "    normalize_mean = np.array([0.485, 0.456, 0.406]).reshape(1, 3, 1, 1)\n",
    "    normalize_std = np.array([0.229, 0.224, 0.225]).reshape(1, 3, 1, 1)\n",
    "    inv_images = (images * normalize_std + normalize_mean) * 255.0\n",
    "    return inv_images.astype(np.float32)\n",
    "\n",
    "\n",
    "stimulus_train = inverse_normalisation(stimulus_train)\n",
    "stimulus_val = inverse_normalisation(stimulus_val)\n",
    "\n",
    "\n",
    "# display(stimulus_train.max(), stimulus_train.min(), stimulus_val.max(), stimulus_val.min())\n",
    "\n",
    "\n",
    "# stm = np.transpose(stimulus_train[0], (1, 2, 0))\n",
    "# stm_val = np.transpose(stimulus_val[0], (1, 2, 0))\n",
    "# plt.imshow(stm.astype(np.uint8), cmap='gray')\n",
    "# plt.show()\n",
    "# plt.imshow(stm_val.astype(np.uint8), cmap='gray')\n",
    "\n"
   ]
  },
  {
   "cell_type": "code",
   "execution_count": 404,
   "metadata": {},
   "outputs": [
    {
     "data": {
      "text/plain": [
       "array([[-0.08788271, -0.01638721, -0.13403203, ...,  0.02842128,\n",
       "        -0.00846578, -0.20738375],\n",
       "       [ 0.02697661, -0.14471018, -0.36234146, ...,  0.5288832 ,\n",
       "        -0.17825067, -0.24549925],\n",
       "       [ 0.7357918 ,  0.22435175, -0.58930063, ...,  0.01999224,\n",
       "         0.03580762,  0.0454006 ],\n",
       "       ...,\n",
       "       [-0.18341042, -0.3003577 , -0.07605718, ..., -0.17347173,\n",
       "        -0.03292113, -0.2970228 ],\n",
       "       [-0.01781981, -0.0523342 ,  0.8571783 , ...,  0.12983103,\n",
       "         0.30777112,  0.14400192],\n",
       "       [-0.30139515, -0.20936176,  0.01124607, ...,  0.07960368,\n",
       "         0.34524894,  0.23937586]], dtype=float32)"
      ]
     },
     "execution_count": 404,
     "metadata": {},
     "output_type": "execute_result"
    }
   ],
   "source": [
    "spikes_val"
   ]
  },
  {
   "cell_type": "code",
   "execution_count": 405,
   "metadata": {},
   "outputs": [
    {
     "data": {
      "text/plain": [
       "array([[ 0.0153424 ,  0.16385917, -0.07326181, ..., -0.5881891 ,\n",
       "        -0.1626944 , -0.70826447],\n",
       "       [-0.09878279, -0.37968943, -0.2231606 , ...,  0.15873413,\n",
       "         0.10990611,  0.21158436],\n",
       "       [-0.10554082, -0.01188746,  0.70853746, ...,  0.5393186 ,\n",
       "        -0.0743687 , -0.16959666],\n",
       "       ...,\n",
       "       [ 0.01140313, -0.37241054, -0.09391645, ...,  0.69843096,\n",
       "         0.01658425,  0.03884423],\n",
       "       [-0.5732364 , -0.5847693 , -0.13272788, ..., -0.3575872 ,\n",
       "        -0.06019125,  0.31781903],\n",
       "       [-0.13184752, -0.08390406, -0.09249463, ..., -0.5614103 ,\n",
       "        -0.0656091 ,  0.3997365 ]], dtype=float32)"
      ]
     },
     "execution_count": 405,
     "metadata": {},
     "output_type": "execute_result"
    }
   ],
   "source": [
    "spikes_train"
   ]
  },
  {
   "cell_type": "code",
   "execution_count": 406,
   "metadata": {},
   "outputs": [
    {
     "name": "stdout",
     "output_type": "stream",
     "text": [
      "Epoch [1/60], Train Loss: 0.1338, Val Loss: 0.1229\n",
      "Epoch [2/60], Train Loss: 0.1073, Val Loss: 0.1095\n",
      "Epoch [3/60], Train Loss: 0.0918, Val Loss: 0.1034\n",
      "Epoch [4/60], Train Loss: 0.0790, Val Loss: 0.0992\n",
      "Epoch [5/60], Train Loss: 0.0696, Val Loss: 0.0981\n",
      "Epoch [6/60], Train Loss: 0.0638, Val Loss: 0.1021\n",
      "Epoch [7/60], Train Loss: 0.0572, Val Loss: 0.0972\n",
      "Epoch [8/60], Train Loss: 0.0524, Val Loss: 0.0995\n",
      "Epoch [9/60], Train Loss: 0.0496, Val Loss: 0.0981\n",
      "Epoch [10/60], Train Loss: 0.0460, Val Loss: 0.0970\n",
      "Epoch [11/60], Train Loss: 0.0434, Val Loss: 0.0945\n",
      "Epoch [12/60], Train Loss: 0.0417, Val Loss: 0.0937\n",
      "Epoch [13/60], Train Loss: 0.0411, Val Loss: 0.0950\n",
      "Epoch [14/60], Train Loss: 0.0398, Val Loss: 0.0995\n",
      "Epoch [15/60], Train Loss: 0.0385, Val Loss: 0.0951\n",
      "Epoch [16/60], Train Loss: 0.0366, Val Loss: 0.0940\n",
      "Epoch [17/60], Train Loss: 0.0359, Val Loss: 0.0938\n",
      "Epoch [18/60], Train Loss: 0.0342, Val Loss: 0.0946\n",
      "Epoch [19/60], Train Loss: 0.0340, Val Loss: 0.0947\n",
      "Epoch [20/60], Train Loss: 0.0345, Val Loss: 0.0949\n",
      "Epoch [21/60], Train Loss: 0.0331, Val Loss: 0.0942\n",
      "Epoch [22/60], Train Loss: 0.0325, Val Loss: 0.0948\n",
      "Epoch [23/60], Train Loss: 0.0314, Val Loss: 0.0939\n",
      "Epoch [24/60], Train Loss: 0.0310, Val Loss: 0.0936\n",
      "Epoch [25/60], Train Loss: 0.0315, Val Loss: 0.0953\n",
      "Epoch [26/60], Train Loss: 0.0309, Val Loss: 0.0979\n",
      "Epoch [27/60], Train Loss: 0.0307, Val Loss: 0.0946\n",
      "Epoch [28/60], Train Loss: 0.0306, Val Loss: 0.0947\n",
      "Epoch [29/60], Train Loss: 0.0294, Val Loss: 0.0948\n",
      "Epoch [30/60], Train Loss: 0.0294, Val Loss: 0.0959\n",
      "Epoch [31/60], Train Loss: 0.0292, Val Loss: 0.0942\n",
      "Epoch [32/60], Train Loss: 0.0290, Val Loss: 0.0961\n",
      "Epoch [33/60], Train Loss: 0.0287, Val Loss: 0.0951\n",
      "Epoch [34/60], Train Loss: 0.0286, Val Loss: 0.0956\n",
      "Epoch [35/60], Train Loss: 0.0292, Val Loss: 0.0942\n",
      "Epoch [36/60], Train Loss: 0.0293, Val Loss: 0.0934\n",
      "Epoch [37/60], Train Loss: 0.0288, Val Loss: 0.0943\n",
      "Epoch [38/60], Train Loss: 0.0289, Val Loss: 0.0936\n",
      "Epoch [39/60], Train Loss: 0.0287, Val Loss: 0.0944\n",
      "Epoch [40/60], Train Loss: 0.0283, Val Loss: 0.0919\n",
      "Epoch [41/60], Train Loss: 0.0277, Val Loss: 0.0937\n",
      "Epoch [42/60], Train Loss: 0.0278, Val Loss: 0.0923\n",
      "Epoch [43/60], Train Loss: 0.0279, Val Loss: 0.0936\n",
      "Epoch [44/60], Train Loss: 0.0280, Val Loss: 0.0920\n",
      "Epoch [45/60], Train Loss: 0.0276, Val Loss: 0.0956\n",
      "Epoch [46/60], Train Loss: 0.0274, Val Loss: 0.0938\n",
      "Epoch [47/60], Train Loss: 0.0274, Val Loss: 0.0920\n",
      "Epoch [48/60], Train Loss: 0.0274, Val Loss: 0.0916\n",
      "Epoch [49/60], Train Loss: 0.0273, Val Loss: 0.0923\n",
      "Epoch [50/60], Train Loss: 0.0273, Val Loss: 0.0921\n",
      "Epoch [51/60], Train Loss: 0.0276, Val Loss: 0.0909\n",
      "Epoch [52/60], Train Loss: 0.0276, Val Loss: 0.0908\n",
      "Epoch [53/60], Train Loss: 0.0273, Val Loss: 0.0943\n",
      "Epoch [54/60], Train Loss: 0.0276, Val Loss: 0.0916\n",
      "Epoch [55/60], Train Loss: 0.0279, Val Loss: 0.0917\n",
      "Epoch [56/60], Train Loss: 0.0287, Val Loss: 0.0923\n",
      "Epoch [57/60], Train Loss: 0.0282, Val Loss: 0.0922\n",
      "Epoch [58/60], Train Loss: 0.0271, Val Loss: 0.0900\n",
      "Epoch [59/60], Train Loss: 0.0269, Val Loss: 0.0907\n",
      "Epoch [60/60], Train Loss: 0.0271, Val Loss: 0.0913\n"
     ]
    }
   ],
   "source": [
    "channel_mean = np.mean(stimulus_train / 255.0, axis=(0, 2, 3))\n",
    "channel_std  = np.std(stimulus_train / 255.0, axis=(0, 2, 3))\n",
    "\n",
    "\n",
    "\n",
    "\n",
    "trans = transforms.Compose([\n",
    "    transforms.ToTensor(),\n",
    "    transforms.Normalize(mean=channel_mean.tolist(), std=channel_std.tolist())\n",
    "])\n",
    "\n",
    "\n",
    "\n",
    "\n",
    "df_train = NA_Dataset(stimulus_train.transpose(0,2,3,1), spikes_train, trans)\n",
    "df_val = NA_Dataset(stimulus_val.transpose(0,2,3,1), spikes_val, trans)\n",
    "batch_size = 32\n",
    "\n",
    "train_loader = DataLoader(df_train, batch_size=batch_size, shuffle=True)\n",
    "val_loader = DataLoader(df_val, batch_size=batch_size, shuffle=False)\n",
    "\n",
    "\n",
    "device = \"mps\" if torch.backends.mps.is_available() else \"cpu\"\n",
    "# device = \"cpu\"\n",
    "num_channels = 3  \n",
    "image_size = stimulus_train.shape[2]\n",
    "num_outputs = spikes_train.shape[1]\n",
    "\n",
    "\n",
    "\n",
    "model = VanillaCNN(num_channels=num_channels, num_outputs=num_outputs, image_size= image_size).to(device)\n",
    "criterion = nn.MSELoss()\n",
    "optimizer = optim.Adam(model.parameters(), lr=0.0001, weight_decay=1e-3)\n",
    "\n",
    "num_epochs = 60\n",
    "\n",
    "for epoch in range(num_epochs):\n",
    "    model.train()  \n",
    "    running_train_loss = 0.0\n",
    "    for batch_idx, (images, targets) in enumerate(train_loader):\n",
    "        images = images.to(device)\n",
    "        targets = targets.to(device)\n",
    "        optimizer.zero_grad()  \n",
    "        outputs = model(images)  \n",
    "        loss = criterion(outputs, targets)  \n",
    "        loss.backward()         \n",
    "        optimizer.step()        \n",
    "        \n",
    "        running_train_loss += loss.item()\n",
    "    average_train_loss = running_train_loss / len(train_loader)\n",
    "    model.eval()  \n",
    "    running_val_loss = 0.0\n",
    "    with torch.no_grad():\n",
    "        for images, targets in val_loader:\n",
    "            images = images.to(device)\n",
    "            targets = targets.to(device)\n",
    "            \n",
    "            outputs = model(images)\n",
    "            loss = criterion(outputs, targets)\n",
    "            running_val_loss += loss.item()\n",
    "    \n",
    "    average_val_loss = running_val_loss / len(val_loader)\n",
    "    \n",
    "    # Print loss metrics for this epoch\n",
    "    print(f\"Epoch [{epoch+1}/{num_epochs}], Train Loss: {average_train_loss:.4f}, Val Loss: {average_val_loss:.4f}\")\n",
    "\n"
   ]
  },
  {
   "cell_type": "code",
   "execution_count": 408,
   "metadata": {},
   "outputs": [
    {
     "name": "stdout",
     "output_type": "stream",
     "text": [
      "Explained Variance (Model Name): 0.3221\n",
      "Mean Pearson Correlation (Model Name): 0.5548\n"
     ]
    },
    {
     "data": {
      "image/png": "[encoded data removed]",
      "text/plain": [
       "<Figure size 1400x500 with 2 Axes>"
      ]
     },
     "metadata": {},
     "output_type": "display_data"
    }
   ],
   "source": [
    "def compute_pearson_per_neuron(Y_true, Y_pred):\n",
    "    return np.array([\n",
    "        pearsonr(Y_true[:, i], Y_pred[:, i])[0] for i in range(Y_true.shape[1])\n",
    "    ])\n",
    "\n",
    "def plot_performance_metrics(Y_pred, model_name, Y_val, verbose=True):\n",
    "    explained_var = explained_variance_score(Y_val, Y_pred, multioutput='raw_values')\n",
    "    corr_per_neuron = compute_pearson_per_neuron(Y_val, Y_pred)\n",
    "    if verbose:\n",
    "        print(f\"Explained Variance ({model_name}): {explained_var.mean():.4f}\")\n",
    "        print(f\"Mean Pearson Correlation ({model_name}): {corr_per_neuron.mean():.4f}\")\n",
    "    fig, axes = plt.subplots(1, 2, figsize=(14, 5))\n",
    "    sns.histplot(explained_var, bins=30, kde=True, color=\"skyblue\", ax=axes[0])\n",
    "    axes[0].set_title(f\"Explained Variance ({model_name})\")\n",
    "    axes[0].set_xlabel(\"Explained Variance\")\n",
    "    axes[0].set_ylabel(\"Number of Neurons\")\n",
    "\n",
    "    sns.histplot(corr_per_neuron, bins=30, kde=True, color=\"salmon\", ax=axes[1])\n",
    "    axes[1].set_title(f\"Pearson Correlation ({model_name})\")\n",
    "    axes[1].set_xlabel(\"Pearson Correlation\")\n",
    "    axes[1].set_ylabel(\"Number of Neurons\")\n",
    "    \n",
    "    plt.tight_layout()\n",
    "    plt.show()\n",
    "\n",
    "model.eval()\n",
    "all_predictions = []\n",
    "all_targets = []\n",
    "\n",
    "# Run through the validation loader and collect predictions and targets.\n",
    "with torch.no_grad():\n",
    "    for images, targets in val_loader:\n",
    "        images = images.to(device)\n",
    "        outputs = model(images)\n",
    "        all_predictions.append(outputs.cpu())\n",
    "        all_targets.append(targets.cpu())\n",
    "\n",
    "# Concatenate batches.\n",
    "Y_pred = torch.cat(all_predictions, dim=0).numpy()\n",
    "Y_val = torch.cat(all_targets, dim=0).numpy()\n",
    "\n",
    "explained_var = explained_variance_score(Y_val, Y_pred, multioutput='raw_values')\n",
    "\n",
    "plot_performance_metrics(Y_pred, \"Model Name\", Y_val, verbose=True)\n"
   ]
  }
 ],
 "metadata": {
  "environment": {
   "kernel": "python3",
   "name": "pytorch-gpu.1-13.m104",
   "type": "gcloud",
   "uri": "gcr.io/deeplearning-platform-release/pytorch-gpu.1-13:m104"
  },
  "kernelspec": {
   "display_name": "nx_414",
   "language": "python",
   "name": "python3"
  },
  "language_info": {
   "codemirror_mode": {
    "name": "ipython",
    "version": 3
   },
   "file_extension": ".py",
   "mimetype": "text/x-python",
   "name": "python",
   "nbconvert_exporter": "python",
   "pygments_lexer": "ipython3",
   "version": "3.10.16"
  }
 },
 "nbformat": 4,
 "nbformat_minor": 4
}
